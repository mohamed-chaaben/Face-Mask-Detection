{
 "cells": [
  {
   "cell_type": "code",
   "execution_count": null,
   "metadata": {},
   "outputs": [],
   "source": [
    "import paho.mqtt.client as mqtt\n",
    "import matplotlib.pyplot as plt\n",
    "import seaborn as sns\n",
    "import time,logging\n",
    "broker=\"test.mosquitto.org\"\n",
    "home_topic=\"PC_TAIEB\"\n",
    "port=1883\n",
    "QOS=0\n",
    "\n",
    "CLEAN_SESSION=True\n",
    "logging.basicConfig(level=logging.INFO) #error logging\n",
    "#use DEBUG,INFO,WARNING\n",
    "def on_subscribe(client, userdata, mid, granted_qos):   #create function for callback\n",
    "   #print(\"subscribed with qos\",granted_qos, \"\\n\")\n",
    "   time.sleep(1)\n",
    "   logging.info(\"sub acknowledge message id=\"+str(mid))\n",
    "   pass\n",
    "\n",
    "def on_disconnect(client, userdata,rc=0):\n",
    "    logging.info(\"DisConnected result code \"+str(rc))\n",
    "\n",
    "\n",
    "def on_connect(client, userdata, flags, rc):\n",
    "    logging.info(\"Connected flags\"+str(flags)+\"result code \"+str(rc))\n",
    "\n",
    "x=[]\n",
    "def on_message(client, userdata, message):\n",
    "    msg=str(message.payload.decode(\"utf-8\"))\n",
    "    x.append(msg.split(\":\")[0])\n",
    "    sns.countplot(x)\n",
    "    plt.show()\n",
    "       \n",
    "def on_publish(client, userdata, mid):\n",
    "    logging.info(\"message published \"  +str(mid))\n",
    "\n",
    "send_topic =\"house/client_a/\" +home_topic\n",
    "client= mqtt.Client(\"ClientB\",False)       #create client object\n",
    "\n",
    "client.on_subscribe = on_subscribe   #assign function to callback\n",
    "client.on_disconnect = on_disconnect #assign function to callback\n",
    "client.on_connect = on_connect #assign function to callback\n",
    "client.on_message=on_message\n",
    "client.connect(broker,port)           #establish connection\n",
    "time.sleep(1)\n",
    "client.loop_start()\n",
    "client.subscribe(\"house/#\")\n",
    "\n",
    "while True:\n",
    "    #runs forever break with CTRL+C\n",
    "    #print(\"publishing on topic \",send_topic)\n",
    "    msg=\"message \"  + \" from client B\"\n",
    "    #client.publish(send_topic,msg)time.sleep(5)\n",
    "client.disconnect()\n",
    "\n",
    "client.loop_stop()"
   ]
  },
  {
   "cell_type": "code",
   "execution_count": null,
   "metadata": {},
   "outputs": [],
   "source": []
  }
 ],
 "metadata": {
  "kernelspec": {
   "display_name": "Python 3",
   "language": "python",
   "name": "python3"
  },
  "language_info": {
   "codemirror_mode": {
    "name": "ipython",
    "version": 3
   },
   "file_extension": ".py",
   "mimetype": "text/x-python",
   "name": "python",
   "nbconvert_exporter": "python",
   "pygments_lexer": "ipython3",
   "version": "3.8.3"
  }
 },
 "nbformat": 4,
 "nbformat_minor": 4
}
